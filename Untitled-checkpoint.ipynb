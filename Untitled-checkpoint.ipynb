{
 "cells": [
  {
   "cell_type": "code",
   "execution_count": 1,
   "id": "ba0403fa",
   "metadata": {},
   "outputs": [],
   "source": [
    "import pandas as pd\n",
    "import warnings\n",
    "warnings.filterwarnings('ignore')\n",
    "\n",
    "%matplotlib inline\n",
    "import matplotlib.pyplot as plt\n",
    "\n",
    "from pandas.plotting import autocorrelation_plot\n",
    "\n",
    "from statsmodels.graphics.tsaplots import plot_acf,plot_pacf\n",
    "import statsmodels.api as sm\n",
    "\n",
    "from statsmodels.tsa.seasonal import seasonal_decompose\n",
    "import numpy as np"
   ]
  },
  {
   "cell_type": "code",
   "execution_count": 2,
   "id": "93a0ffb6",
   "metadata": {},
   "outputs": [],
   "source": [
    "df = pd.read_csv('umaima (1).csv')"
   ]
  },
  {
   "cell_type": "code",
   "execution_count": 3,
   "id": "481f609d",
   "metadata": {},
   "outputs": [
    {
     "data": {
      "text/html": [
       "<div>\n",
       "<style scoped>\n",
       "    .dataframe tbody tr th:only-of-type {\n",
       "        vertical-align: middle;\n",
       "    }\n",
       "\n",
       "    .dataframe tbody tr th {\n",
       "        vertical-align: top;\n",
       "    }\n",
       "\n",
       "    .dataframe thead th {\n",
       "        text-align: right;\n",
       "    }\n",
       "</style>\n",
       "<table border=\"1\" class=\"dataframe\">\n",
       "  <thead>\n",
       "    <tr style=\"text-align: right;\">\n",
       "      <th></th>\n",
       "      <th>venture_category1_name_en</th>\n",
       "      <th>venture_category2_name_en</th>\n",
       "      <th>venture_category3_name_en</th>\n",
       "      <th>month</th>\n",
       "      <th>orders</th>\n",
       "      <th>items</th>\n",
       "      <th>buyers</th>\n",
       "      <th>total_platform_discount_usd</th>\n",
       "      <th>gmv_usd</th>\n",
       "      <th>nmv_usd</th>\n",
       "      <th>organic_gmv</th>\n",
       "      <th>nmv_items</th>\n",
       "      <th>uvs</th>\n",
       "      <th>pvs</th>\n",
       "    </tr>\n",
       "  </thead>\n",
       "  <tbody>\n",
       "    <tr>\n",
       "      <th>0</th>\n",
       "      <td>Cameras</td>\n",
       "      <td>Camera Accessories</td>\n",
       "      <td>Straps</td>\n",
       "      <td>20211001</td>\n",
       "      <td>2</td>\n",
       "      <td>2</td>\n",
       "      <td>1</td>\n",
       "      <td>0.000000</td>\n",
       "      <td>0.000000</td>\n",
       "      <td>0.000000</td>\n",
       "      <td>0.000000</td>\n",
       "      <td>2</td>\n",
       "      <td>70.0</td>\n",
       "      <td>95.0</td>\n",
       "    </tr>\n",
       "    <tr>\n",
       "      <th>1</th>\n",
       "      <td>Computers &amp; Laptops</td>\n",
       "      <td>Computer Components</td>\n",
       "      <td>Motherboards</td>\n",
       "      <td>20211001</td>\n",
       "      <td>9</td>\n",
       "      <td>16</td>\n",
       "      <td>5</td>\n",
       "      <td>0.058694</td>\n",
       "      <td>442.843911</td>\n",
       "      <td>164.156696</td>\n",
       "      <td>442.092622</td>\n",
       "      <td>5</td>\n",
       "      <td>635.0</td>\n",
       "      <td>1161.0</td>\n",
       "    </tr>\n",
       "    <tr>\n",
       "      <th>2</th>\n",
       "      <td>Computers &amp; Laptops</td>\n",
       "      <td>Network Components</td>\n",
       "      <td>Network adaptors</td>\n",
       "      <td>20211001</td>\n",
       "      <td>8</td>\n",
       "      <td>8</td>\n",
       "      <td>8</td>\n",
       "      <td>0.234778</td>\n",
       "      <td>50.888106</td>\n",
       "      <td>50.888106</td>\n",
       "      <td>48.845538</td>\n",
       "      <td>8</td>\n",
       "      <td>268.0</td>\n",
       "      <td>346.0</td>\n",
       "    </tr>\n",
       "    <tr>\n",
       "      <th>3</th>\n",
       "      <td>TV Audio Video Gaming &amp; Wearables</td>\n",
       "      <td>Accessories</td>\n",
       "      <td>Video Glasses</td>\n",
       "      <td>20211001</td>\n",
       "      <td>1</td>\n",
       "      <td>1</td>\n",
       "      <td>1</td>\n",
       "      <td>0.000000</td>\n",
       "      <td>3.803402</td>\n",
       "      <td>3.803402</td>\n",
       "      <td>3.803402</td>\n",
       "      <td>1</td>\n",
       "      <td>133.0</td>\n",
       "      <td>154.0</td>\n",
       "    </tr>\n",
       "    <tr>\n",
       "      <th>4</th>\n",
       "      <td>TV Audio Video Gaming &amp; Wearables</td>\n",
       "      <td>Wearable Technology</td>\n",
       "      <td>Virtual Reality</td>\n",
       "      <td>20211001</td>\n",
       "      <td>17</td>\n",
       "      <td>17</td>\n",
       "      <td>17</td>\n",
       "      <td>1.396928</td>\n",
       "      <td>203.797987</td>\n",
       "      <td>144.000060</td>\n",
       "      <td>181.811038</td>\n",
       "      <td>12</td>\n",
       "      <td>851.0</td>\n",
       "      <td>1905.0</td>\n",
       "    </tr>\n",
       "  </tbody>\n",
       "</table>\n",
       "</div>"
      ],
      "text/plain": [
       "           venture_category1_name_en venture_category2_name_en  \\\n",
       "0                            Cameras        Camera Accessories   \n",
       "1                Computers & Laptops       Computer Components   \n",
       "2                Computers & Laptops        Network Components   \n",
       "3  TV Audio Video Gaming & Wearables               Accessories   \n",
       "4  TV Audio Video Gaming & Wearables       Wearable Technology   \n",
       "\n",
       "  venture_category3_name_en     month  orders  items  buyers  \\\n",
       "0                    Straps  20211001       2      2       1   \n",
       "1              Motherboards  20211001       9     16       5   \n",
       "2          Network adaptors  20211001       8      8       8   \n",
       "3             Video Glasses  20211001       1      1       1   \n",
       "4           Virtual Reality  20211001      17     17      17   \n",
       "\n",
       "   total_platform_discount_usd     gmv_usd     nmv_usd  organic_gmv  \\\n",
       "0                     0.000000    0.000000    0.000000     0.000000   \n",
       "1                     0.058694  442.843911  164.156696   442.092622   \n",
       "2                     0.234778   50.888106   50.888106    48.845538   \n",
       "3                     0.000000    3.803402    3.803402     3.803402   \n",
       "4                     1.396928  203.797987  144.000060   181.811038   \n",
       "\n",
       "   nmv_items    uvs     pvs  \n",
       "0          2   70.0    95.0  \n",
       "1          5  635.0  1161.0  \n",
       "2          8  268.0   346.0  \n",
       "3          1  133.0   154.0  \n",
       "4         12  851.0  1905.0  "
      ]
     },
     "execution_count": 3,
     "metadata": {},
     "output_type": "execute_result"
    }
   ],
   "source": [
    "df.head()"
   ]
  },
  {
   "cell_type": "code",
   "execution_count": 4,
   "id": "de93eaf9",
   "metadata": {},
   "outputs": [
    {
     "data": {
      "text/plain": [
       "(42495, 14)"
      ]
     },
     "execution_count": 4,
     "metadata": {},
     "output_type": "execute_result"
    }
   ],
   "source": [
    "df.shape"
   ]
  },
  {
   "cell_type": "code",
   "execution_count": 5,
   "id": "020c0558",
   "metadata": {},
   "outputs": [
    {
     "name": "stdout",
     "output_type": "stream",
     "text": [
      "<class 'pandas.core.frame.DataFrame'>\n",
      "RangeIndex: 42495 entries, 0 to 42494\n",
      "Data columns (total 14 columns):\n",
      " #   Column                       Non-Null Count  Dtype  \n",
      "---  ------                       --------------  -----  \n",
      " 0   venture_category1_name_en    42495 non-null  object \n",
      " 1   venture_category2_name_en    42495 non-null  object \n",
      " 2   venture_category3_name_en    40951 non-null  object \n",
      " 3   month                        42495 non-null  int64  \n",
      " 4   orders                       42495 non-null  int64  \n",
      " 5   items                        42495 non-null  int64  \n",
      " 6   buyers                       42495 non-null  int64  \n",
      " 7   total_platform_discount_usd  42495 non-null  float64\n",
      " 8   gmv_usd                      42495 non-null  float64\n",
      " 9   nmv_usd                      42495 non-null  float64\n",
      " 10  organic_gmv                  39423 non-null  float64\n",
      " 11  nmv_items                    42495 non-null  int64  \n",
      " 12  uvs                          40950 non-null  float64\n",
      " 13  pvs                          40950 non-null  float64\n",
      "dtypes: float64(6), int64(5), object(3)\n",
      "memory usage: 4.5+ MB\n"
     ]
    }
   ],
   "source": [
    "df.info()"
   ]
  },
  {
   "cell_type": "code",
   "execution_count": 6,
   "id": "abb2bf1b",
   "metadata": {},
   "outputs": [
    {
     "data": {
      "text/plain": [
       "[<matplotlib.lines.Line2D at 0x15c057da4c0>]"
      ]
     },
     "execution_count": 6,
     "metadata": {},
     "output_type": "execute_result"
    },
    {
     "data": {
      "image/png": "[encoded data removed]",
      "text/plain": [
       "<Figure size 432x288 with 1 Axes>"
      ]
     },
     "metadata": {},
     "output_type": "display_data"
    }
   ],
   "source": [
    "plt.style.use('seaborn-whitegrid')\n",
    "fig = plt.figure()\n",
    "ax = plt.axes()\n",
    "ax.plot(df['month'], df['gmv_usd'])"
   ]
  },
  {
   "cell_type": "code",
   "execution_count": 7,
   "id": "bb3fb771",
   "metadata": {},
   "outputs": [],
   "source": [
    "df['date'] = pd.to_datetime(df.month, format='%Y%m%d')\n"
   ]
  },
  {
   "cell_type": "code",
   "execution_count": 8,
   "id": "861e5501",
   "metadata": {},
   "outputs": [],
   "source": [
    "mydata_ts = pd.Series(df.gmv_usd.values, index=df.date, name='Revenue')\n",
    "mydata_ts.index = pd.DatetimeIndex(mydata_ts.index,freq=mydata_ts.index.inferred_freq)\n",
    "result = seasonal_decompose(mydata_ts, model='additive', period = 1)"
   ]
  },
  {
   "cell_type": "code",
   "execution_count": 9,
   "id": "07bc8b77",
   "metadata": {
    "scrolled": true
   },
   "outputs": [
    {
     "data": {
      "image/png": "[encoded data removed]",
      "text/plain": [
       "<Figure size 432x288 with 4 Axes>"
      ]
     },
     "metadata": {},
     "output_type": "display_data"
    }
   ],
   "source": [
    "result.plot()\n",
    "plt.show()"
   ]
  },
  {
   "cell_type": "code",
   "execution_count": 10,
   "id": "8f8b3b4a",
   "metadata": {},
   "outputs": [
    {
     "data": {
      "text/plain": [
       "[<matplotlib.lines.Line2D at 0x15c05a51400>]"
      ]
     },
     "execution_count": 10,
     "metadata": {},
     "output_type": "execute_result"
    },
    {
     "data": {
      "image/png": "[encoded data removed]",
      "text/plain": [
       "<Figure size 432x288 with 1 Axes>"
      ]
     },
     "metadata": {},
     "output_type": "display_data"
    }
   ],
   "source": [
    "fig = plt.figure()\n",
    "ax = plt.axes()\n",
    "ax.plot(result.seasonal)"
   ]
  },
  {
   "cell_type": "code",
   "execution_count": 11,
   "id": "2f6495fe",
   "metadata": {},
   "outputs": [
    {
     "data": {
      "text/plain": [
       "[<matplotlib.lines.Line2D at 0x15c05ad8790>]"
      ]
     },
     "execution_count": 11,
     "metadata": {},
     "output_type": "execute_result"
    },
    {
     "data": {
      "image/png": "[encoded data removed]",
      "text/plain": [
       "<Figure size 432x288 with 1 Axes>"
      ]
     },
     "metadata": {},
     "output_type": "display_data"
    }
   ],
   "source": [
    "fig = plt.figure()\n",
    "ax = plt.axes()\n",
    "ax.plot(result.trend)"
   ]
  },
  {
   "cell_type": "code",
   "execution_count": 12,
   "id": "aea89fd1",
   "metadata": {},
   "outputs": [
    {
     "data": {
      "text/plain": [
       "date\n",
       "2021-10-01      0.000000\n",
       "2021-10-01    442.843911\n",
       "2021-10-01     50.888106\n",
       "2021-10-01      3.803402\n",
       "2021-10-01    203.797987\n",
       "                 ...    \n",
       "2022-03-27     13.828589\n",
       "2022-03-28    270.916838\n",
       "2022-03-29    343.688390\n",
       "2022-03-30    336.193936\n",
       "2022-03-30    135.257240\n",
       "Name: trend, Length: 42495, dtype: float64"
      ]
     },
     "execution_count": 12,
     "metadata": {},
     "output_type": "execute_result"
    }
   ],
   "source": [
    "result.trend"
   ]
  },
  {
   "cell_type": "code",
   "execution_count": null,
   "id": "d38a1b89",
   "metadata": {},
   "outputs": [],
   "source": []
  },
  {
   "cell_type": "code",
   "execution_count": 13,
   "id": "cfd75029",
   "metadata": {},
   "outputs": [],
   "source": [
    "#ACF and PACF plots:\n",
    "from statsmodels.tsa.stattools import acf, pacf\n",
    "from statsmodels.graphics.tsaplots import plot_acf, plot_pacf\n",
    "lag_acf  = acf(df['gmv_usd'].dropna(inplace=False), nlags=20)\n",
    "lag_pacf = pacf(df['gmv_usd'].dropna(inplace=False), nlags=20, method='ols')"
   ]
  },
  {
   "cell_type": "code",
   "execution_count": 14,
   "id": "fcb5ae11",
   "metadata": {},
   "outputs": [
    {
     "data": {
      "image/png": "[encoded data removed]",
      "text/plain": [
       "<Figure size 432x288 with 1 Axes>"
      ]
     },
     "metadata": {},
     "output_type": "display_data"
    }
   ],
   "source": [
    "q=plot_acf(lag_acf)\n"
   ]
  },
  {
   "cell_type": "code",
   "execution_count": null,
   "id": "fee68b8c",
   "metadata": {},
   "outputs": [],
   "source": []
  }
 ],
 "metadata": {
  "kernelspec": {
   "display_name": "Python 3 (ipykernel)",
   "language": "python",
   "name": "python3"
  },
  "language_info": {
   "codemirror_mode": {
    "name": "ipython",
    "version": 3
   },
   "file_extension": ".py",
   "mimetype": "text/x-python",
   "name": "python",
   "nbconvert_exporter": "python",
   "pygments_lexer": "ipython3",
   "version": "3.9.7"
  }
 },
 "nbformat": 4,
 "nbformat_minor": 5
}
